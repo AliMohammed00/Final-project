{
 "cells": [
  {
   "cell_type": "code",
   "execution_count": 14,
   "id": "244a349e-48cc-45ac-9421-adc36aaadc6d",
   "metadata": {},
   "outputs": [],
   "source": [
    "import streamlit as st"
   ]
  },
  {
   "cell_type": "code",
   "execution_count": 15,
   "id": "646e4568-0c4f-42d4-88d9-59581a93650a",
   "metadata": {},
   "outputs": [
    {
     "name": "stdout",
     "output_type": "stream",
     "text": [
      "Overwriting app.py\n"
     ]
    }
   ],
   "source": [
    "%%writefile app.py\n",
    "import pandas as pd\n",
    "import numpy as np\n",
    "import streamlit as st\n",
    "import joblib\n",
    "\n",
    "model = joblib.load('SCF2.pkl')\n",
    "\n",
    "def predict_segment(NETWORTH,\tDEBT,\tHOUSES,\tNFIN,\tASSET):\n",
    "  prediction = model.predict(pd.DataFrame({'NETWORTH':[NETWORTH],\\\n",
    "                                           'DEBT': [DEBT], \\\n",
    "                                           'HOUSES': [HOUSES],\\\n",
    "                                           'NFIN': [NFIN],\\\n",
    "                                           'ASSET':[ASSET]}))\n",
    "  label = ['0', '1' , '2']\n",
    "  return label[prediction[0]]\n",
    "\n",
    "def main():\n",
    "  st.title('Customer segmentation')\n",
    "  html_temp=\"\"\"\n",
    "                <div style=\"background-color:red\">\n",
    "                <h2 style=\"color:white;text-align:center;\"> Consumer finance segmentation </h2>\n",
    "                </div>\n",
    "              \"\"\"\n",
    "  st.markdown(html_temp,unsafe_allow_html=True)\n",
    "\n",
    "  NETWORTH = st.text_input(\"NETWORTH\",\"Type Here\")\n",
    "  DEBT = st.text_input(\"DEBT\",\"Type Here\")\n",
    "  HOUSES = st.text_input(\"HOUSES\",\"Type Here\")\n",
    "  NFIN = st.text_input(\"NFIN\",\"Type Here\")\n",
    "  ASSET = st.text_input(\"ASSET\",\"Type Here\")\n",
    "\n",
    "  result = \"\"\n",
    "  if st.button('predict'):\n",
    "    result = predict_segment(NETWORTH,\tDEBT,\tHOUSES,\tNFIN,\tASSET)\n",
    "  st.success('this person belongs to cluster name {}'.format(result))\n",
    "\n",
    "if __name__ == \"__main__\":\n",
    "  main()"
   ]
  },
  {
   "cell_type": "code",
   "execution_count": null,
   "id": "8dc8317d-926b-4de4-b0ba-6119c1210400",
   "metadata": {},
   "outputs": [],
   "source": [
    "! streamlit run app.py"
   ]
  },
  {
   "cell_type": "code",
   "execution_count": 6,
   "id": "e58b5004-cdf9-4cac-8da3-b3da9ebfd88e",
   "metadata": {},
   "outputs": [
    {
     "name": "stdout",
     "output_type": "stream",
     "text": [
      "^C\n",
      "Note: you may need to restart the kernel to use updated packages.\n"
     ]
    }
   ],
   "source": [
    "pip uninstall streamlit"
   ]
  },
  {
   "cell_type": "code",
   "execution_count": null,
   "id": "bf5e87a3-0112-4c48-82fd-d487a14c49e7",
   "metadata": {},
   "outputs": [],
   "source": []
  }
 ],
 "metadata": {
  "kernelspec": {
   "display_name": "Python 3 (ipykernel)",
   "language": "python",
   "name": "python3"
  },
  "language_info": {
   "codemirror_mode": {
    "name": "ipython",
    "version": 3
   },
   "file_extension": ".py",
   "mimetype": "text/x-python",
   "name": "python",
   "nbconvert_exporter": "python",
   "pygments_lexer": "ipython3",
   "version": "3.11.7"
  }
 },
 "nbformat": 4,
 "nbformat_minor": 5
}
